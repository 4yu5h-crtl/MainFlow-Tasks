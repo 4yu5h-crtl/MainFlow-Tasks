{
    "cells": [
     {
      "cell_type": "markdown",
      "metadata": {},
      "source": [
       "# Customer Segmentation Using Clustering (K-Means)\n",
       "This project performs customer segmentation using K-Means clustering on the dataset customer_data.csv. It includes:\n",
       "- Data loading and preprocessing\n",
       "- Elbow Method and Silhouette Score analysis\n",
       "- K-Means clustering\n",
       "- PCA-based visualization\n",
       "- Final recommendations for business actions"
      ]
     },
     {
      "cell_type": "code",
      "execution_count": null,
      "metadata": {},
      "source": [
       "import pandas as pd\n",
       "import numpy as np\n",
       "import matplotlib.pyplot as plt\n",
       "import seaborn as sns\n",
       "from sklearn.preprocessing import StandardScaler\n",
       "from sklearn.cluster import KMeans\n",
       "from sklearn.metrics import silhouette_score\n",
       "from sklearn.decomposition import PCA"
      ],
      "outputs": []
     },
     {
      "cell_type": "code",
      "execution_count": null,
      "metadata": {},
      "source": [
       "df = pd.read_csv(\"customer_data.csv\")\n",
       "df.head()"
      ],
      "outputs": []
     },
     {
      "cell_type": "code",
      "execution_count": null,
      "metadata": {},
      "source": [
       "print(\"Dataset shape:\", df.shape)\n",
       "print(\"Missing values:\\n\", df.isnull().sum())\n",
       "print(\"Duplicates:\", df.duplicated().sum())\n",
       "print(\"Data types:\\n\", df.dtypes)\n",
       "df.describe()"
      ],
      "outputs": []
     },
     {
      "cell_type": "code",
      "execution_count": null,
      "metadata": {},
      "source": [
       "features = ['Age', 'Annual_Income_(k$)', 'Spending_Score']\n",
       "scaler = StandardScaler()\n",
       "scaled_data = scaler.fit_transform(df[features])"
      ],
      "outputs": []
     },
     {
      "cell_type": "code",
      "execution_count": null,
      "metadata": {},
      "source": [
       "wcss = []\n",
       "for i in range(1, 11):\n",
       "    kmeans = KMeans(n_clusters=i, init='k-means++', random_state=42, n_init=10)\n",
       "    kmeans.fit(scaled_data)\n",
       "    wcss.append(kmeans.inertia_)\n",
       "\n",
       "plt.plot(range(1, 11), wcss, marker='o')\n",
       "plt.title('Elbow Method')\n",
       "plt.xlabel('Number of clusters')\n",
       "plt.ylabel('WCSS')\n",
       "plt.grid(True)\n",
       "plt.show()"
      ],
      "outputs": []
     },
     {
      "cell_type": "code",
      "execution_count": null,
      "metadata": {},
      "source": [
       "silhouette_scores = []\n",
       "for k in range(2, 11):\n",
       "    kmeans = KMeans(n_clusters=k, init='k-means++', random_state=42, n_init=10)\n",
       "    labels = kmeans.fit_predict(scaled_data)\n",
       "    score = silhouette_score(scaled_data, labels)\n",
       "    silhouette_scores.append(score)\n",
       "\n",
       "plt.plot(range(2, 11), silhouette_scores, marker='x', color='green')\n",
       "plt.title('Silhouette Scores')\n",
       "plt.xlabel('Number of clusters')\n",
       "plt.ylabel('Score')\n",
       "plt.grid(True)\n",
       "plt.show()"
      ],
      "outputs": []
     },
     {
      "cell_type": "code",
      "execution_count": null,
      "metadata": {},
      "source": [
       "optimal_clusters = 5 # Change if needed based on elbow/silhouette\n",
       "kmeans = KMeans(n_clusters=optimal_clusters, init='k-means++', random_state=42, n_init=10)\n",
       "df['Cluster'] = kmeans.fit_predict(scaled_data)"
      ],
      "outputs": []
     },
     {
      "cell_type": "code",
      "execution_count": null,
      "metadata": {},
      "source": [
       "pca = PCA(n_components=2)\n",
       "components = pca.fit_transform(scaled_data)\n",
       "df['PCA1'] = components[:, 0]\n",
       "df['PCA2'] = components[:, 1]\n",
       "\n",
       "plt.figure(figsize=(8,6))\n",
       "sns.scatterplot(data=df, x='PCA1', y='PCA2', hue='Cluster', palette='tab10')\n",
       "plt.title(\"Customer Segments (PCA)\")\n",
       "plt.grid(True)\n",
       "plt.show()"
      ],
      "outputs": []
     },
     {
      "cell_type": "code",
      "execution_count": null,
      "metadata": {},
      "source": [
       "df.to_csv(\"Customer_Segmentation_Results.csv\", index=False)"
      ],
      "outputs": []
     },
     {
      "cell_type": "markdown",
      "metadata": {},
      "source": [
       "## Recommendations and Business Insights\n",
       "Based on the clustering results:\n",
       "- **High-Spending Younger Customers**: Target these with premium products and exclusive offers.\n",
       "- **Low-Spending High Income Customers**: Investigate their needs; they may require different engagement strategies.\n",
       "- **Middle-Spending Clusters**: Offer loyalty programs or discounts to convert them to high-spenders.\n",
       "- **Older Customers**: Consider personalized or senior-specific offerings if they appear in separate clusters.\n",
       "- **Cluster-based Marketing**: Customize marketing campaigns based on age, income, and spending behavior. This segmentation helps improve marketing effectiveness, resource allocation, and customer satisfaction."
      ]
     }
    ],
    "metadata": {
     "kernelspec": {
      "display_name": "Python 3",
      "language": "python",
      "name": "python3"
     },
     "language_info": {
      "codemirror_mode": {
       "name": "ipython",
       "version": 3
      },
      "file_extension": ".py",
      "mimetype": "text/x-python",
      "name": "python",
      "nbconvert_exporter": "python",
      "pygments_lexer": "ipython3",
      "version": "3.8.5"
     }
    },
    "nbformat": 4,
    "nbformat_minor": 4
   }